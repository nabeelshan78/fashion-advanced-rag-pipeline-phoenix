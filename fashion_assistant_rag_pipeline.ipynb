{
 "cells": [
  {
   "cell_type": "markdown",
   "id": "62fbd219",
   "metadata": {},
   "source": [
    "# **Retrieval-Augmented Generation (RAG)**\n",
    "\n",
    "# 🛍️ Fashion Forward Hub – Intelligent Query System\n",
    "\n",
    "This notebook demonstrates a complete pipeline for building a **fashion retail assistant** powered by **LLMs + Weaviate vector database**.  \n",
    "It integrates multiple components to understand and answer customer queries in natural language:\n",
    "\n",
    "- **FAQ Handling** – Answers store-related questions (refunds, returns, shipping, etc.) from a curated FAQ database.  \n",
    "- **Product Query Handling** – Retrieves relevant fashion products from the product database using semantic search + metadata filtering.  \n",
    "- **Task Routing** – Classifies queries as **FAQ** or **Product**, and further identifies whether product queries are **technical** (facts, availability, prices) or **creative** (style/look suggestions).  \n",
    "- **Contextual Prompt Generation** – Builds tailored prompts with product context and FAQ content to guide the LLM.  \n",
    "- **Dynamic Parameters** – Adjusts `temperature` and `top_p` based on query type (creative vs. technical).  \n",
    "\n",
    "🔑 **End Goal:** Provide a natural, conversational, and accurate shopping assistant experience by seamlessly combining FAQs, product catalogs, and LLM-driven reasoning.\n"
   ]
  },
  {
   "cell_type": "code",
   "execution_count": 1,
   "id": "efc5dc44-0492-45fc-8555-2eb3b8bf5bb5",
   "metadata": {
    "tags": []
   },
   "outputs": [],
   "source": [
    "import json\n",
    "from weaviate.classes.query import Filter\n",
    "import weaviate\n",
    "import joblib"
   ]
  },
  {
   "cell_type": "code",
   "execution_count": 2,
   "id": "026b2c08-5411-40be-88c2-99847bad4bf2",
   "metadata": {
    "tags": []
   },
   "outputs": [],
   "source": [
    "from utils import (\n",
    "    generate_with_single_input,\n",
    "    generate_params_dict\n",
    ")"
   ]
  },
  {
   "cell_type": "code",
   "execution_count": 3,
   "id": "2883da19-3505-480e-8457-3d707dc99ba9",
   "metadata": {
    "tags": []
   },
   "outputs": [
    {
     "name": "stdout",
     "output_type": "stream",
     "text": [
      " * Serving Flask app 'flask_app'\n",
      " * Debug mode: off\n"
     ]
    }
   ],
   "source": [
    "import flask_app"
   ]
  },
  {
   "cell_type": "code",
   "execution_count": 4,
   "id": "83caf60d-deaf-4507-a43f-e3ef70770381",
   "metadata": {
    "tags": []
   },
   "outputs": [],
   "source": [
    "import weaviate_server"
   ]
  },
  {
   "cell_type": "code",
   "execution_count": null,
   "id": "5d97c8d7-3918-4c32-8cea-39bdbac4bd93",
   "metadata": {},
   "outputs": [],
   "source": []
  },
  {
   "cell_type": "code",
   "execution_count": null,
   "id": "6da59388-37aa-4b53-8a86-3f210bd92f41",
   "metadata": {},
   "outputs": [],
   "source": []
  },
  {
   "cell_type": "markdown",
   "id": "edc6e115-485a-46e5-916b-c643dbc8904b",
   "metadata": {
    "tags": []
   },
   "source": [
    "## `generate_params_dict` function\n",
    "\n",
    "This function will be used to generate a dictionary of parameters:"
   ]
  },
  {
   "cell_type": "code",
   "execution_count": 5,
   "id": "2315ed66-5927-4142-a642-1e20543c4e1c",
   "metadata": {
    "tags": []
   },
   "outputs": [
    {
     "data": {
      "text/plain": [
       "\u001b[31mSignature:\u001b[39m\n",
       "generate_params_dict(\n",
       "    prompt: str,\n",
       "    temperature: float = \u001b[38;5;28;01mNone\u001b[39;00m,\n",
       "    role=\u001b[33m'user'\u001b[39m,\n",
       "    top_p: float = \u001b[38;5;28;01mNone\u001b[39;00m,\n",
       "    max_tokens: int = \u001b[32m500\u001b[39m,\n",
       "    model: str = \u001b[33m'meta-llama/Llama-3.2-3B-Instruct-Turbo'\u001b[39m,\n",
       ")\n",
       "\u001b[31mDocstring:\u001b[39m\n",
       "Call an LLM with different sampling parameters to observe their effects.\n",
       "\n",
       "Args:\n",
       "    prompt: The text prompt to send to the model\n",
       "    temperature: Controls randomness (lower = more deterministic)\n",
       "    top_p: Controls diversity via nucleus sampling\n",
       "    max_tokens: Maximum number of tokens to generate\n",
       "    model: The model to use\n",
       "    \n",
       "Returns:\n",
       "    The LLM response\n",
       "\u001b[31mFile:\u001b[39m      ~/work/utils.py\n",
       "\u001b[31mType:\u001b[39m      function"
      ]
     },
     "metadata": {},
     "output_type": "display_data"
    }
   ],
   "source": [
    "generate_params_dict?"
   ]
  },
  {
   "cell_type": "code",
   "execution_count": 6,
   "id": "e7edb43b-e250-477d-8d29-5b2be6227482",
   "metadata": {
    "tags": []
   },
   "outputs": [
    {
     "name": "stdout",
     "output_type": "stream",
     "text": [
      "{'prompt': 'Solve x^2 - 1 = 0', 'role': 'user', 'temperature': 1.2, 'top_p': 0.2, 'max_tokens': 500, 'model': 'meta-llama/Llama-3.2-3B-Instruct-Turbo'}\n"
     ]
    }
   ],
   "source": [
    "kwargs = generate_params_dict(prompt=\"Solve x^2 - 1 = 0\", temperature=1.2, top_p=0.2)\n",
    "print(kwargs)"
   ]
  },
  {
   "cell_type": "code",
   "execution_count": 7,
   "id": "96e0566e-8560-4e2c-8c99-1a600ca52d35",
   "metadata": {
    "tags": []
   },
   "outputs": [
    {
     "name": "stdout",
     "output_type": "stream",
     "text": [
      "To solve the equation x^2 - 1 = 0, we can start by adding 1 to both sides:\n",
      "\n",
      "x^2 - 1 + 1 = 0 + 1\n",
      "\n",
      "This simplifies to:\n",
      "\n",
      "x^2 = 1\n",
      "\n",
      "Next, we can take the square root of both sides:\n",
      "\n",
      "x = √1\n",
      "\n",
      "x = ±1\n",
      "\n",
      "So, the solutions to the equation x^2 - 1 = 0 are x = 1 and x = -1.\n"
     ]
    }
   ],
   "source": [
    "response = generate_with_single_input(**kwargs)\n",
    "print(response['content'])"
   ]
  },
  {
   "cell_type": "code",
   "execution_count": null,
   "id": "3e0b6520-8500-4c66-ba63-b69e343f0bff",
   "metadata": {},
   "outputs": [],
   "source": []
  },
  {
   "cell_type": "markdown",
   "id": "31aa6ebe-4c29-4d0e-8797-62ebbf9ae299",
   "metadata": {},
   "source": [
    "## Understanding Fashion Forward Hub data schema\n",
    "\n",
    "There are two databases:\n",
    "\n",
    "- Product database: Contains the products and their information.\n",
    "- FAQ database: Contains the FAQ data."
   ]
  },
  {
   "cell_type": "markdown",
   "id": "95c4f7b9-fbdc-4d33-bee6-87f85458c0f1",
   "metadata": {},
   "source": [
    "### Products Database"
   ]
  },
  {
   "cell_type": "code",
   "execution_count": 8,
   "id": "0f43427d-49f3-472f-9f5f-74ac0f4a7dce",
   "metadata": {
    "tags": []
   },
   "outputs": [],
   "source": [
    "# Loading products data\n",
    "PRODUCTS_DATA = joblib.load('dataset/clothes_json.joblib')"
   ]
  },
  {
   "cell_type": "code",
   "execution_count": 9,
   "id": "4b1fd96d-1f2a-41e6-a15b-b7ad9325642a",
   "metadata": {
    "tags": []
   },
   "outputs": [
    {
     "data": {
      "text/plain": [
       "{'gender': 'Men',\n",
       " 'masterCategory': 'Apparel',\n",
       " 'subCategory': 'Topwear',\n",
       " 'articleType': 'Shirts',\n",
       " 'baseColour': 'Navy Blue',\n",
       " 'season': 'Fall',\n",
       " 'year': 2011.0,\n",
       " 'usage': 'Casual',\n",
       " 'productDisplayName': 'Turtle Check Men Navy Blue Shirt',\n",
       " 'price': 67,\n",
       " 'product_id': 15970}"
      ]
     },
     "execution_count": 9,
     "metadata": {},
     "output_type": "execute_result"
    }
   ],
   "source": [
    "PRODUCTS_DATA[0]"
   ]
  },
  {
   "cell_type": "markdown",
   "id": "b874eb61-78e4-465f-9185-30ca1e3c4f3e",
   "metadata": {},
   "source": [
    "The features each product has are:\n",
    "\n",
    "- **Gender:** Target audience for the product, such as \"Men,\" \"Women,\" or \"Unisex.\"\n",
    "- **Master Category:** Broad classification like \"Apparel\" or \"Footwear.\"\n",
    "- **Sub Category:** Specific category within a master category, such as \"Topwear.\"\n",
    "- **Article Type:** Exact type of product, e.g., \"Shirts\" or \"Jackets.\"\n",
    "- **Base Colour:** Main color of the product, important for customer choice.\n",
    "- **Season:** Intended season for the product, e.g., \"Summer\" or \"Winter.\"\n",
    "- **Year:** Year of release or collection.\n",
    "- **Usage:** Intended use or occasion, like \"Casual\" or \"Formal.\"\n",
    "- **Product Display Name:** Descriptive name used in marketing.\n",
    "- **Price:** Cost of the product.\n",
    "- **Product ID:** Unique identifier for managing and tracking inventory."
   ]
  },
  {
   "cell_type": "code",
   "execution_count": null,
   "id": "c0e11e01-a60b-4f02-aacb-eb83cdfe936f",
   "metadata": {},
   "outputs": [],
   "source": []
  },
  {
   "cell_type": "markdown",
   "id": "11cc10cf-e5f9-4ea4-9675-b97d842b0878",
   "metadata": {},
   "source": [
    "### FAQ Database"
   ]
  },
  {
   "cell_type": "code",
   "execution_count": 10,
   "id": "15b29ae5-77a7-4beb-910e-703b0427d11f",
   "metadata": {
    "tags": []
   },
   "outputs": [],
   "source": [
    "FAQ = joblib.load(\"dataset/faq.joblib\")"
   ]
  },
  {
   "cell_type": "code",
   "execution_count": 11,
   "id": "b12f5760-aa28-4721-988b-2477e59dfa2d",
   "metadata": {
    "tags": []
   },
   "outputs": [
    {
     "data": {
      "text/plain": [
       "[{'question': 'What are your store hours?',\n",
       "  'answer': 'Our online store is open 24/7. Customer service is available from 9:00 AM to 6:00 PM, Monday through Friday.',\n",
       "  'type': 'general information'},\n",
       " {'question': 'Where is Fashion Forward Hub located?',\n",
       "  'answer': 'Fashion Forward Hub is primarily an online store. Our corporate office is located at 123 Fashion Lane, Trend City, Style State.',\n",
       "  'type': 'general information'}]"
      ]
     },
     "execution_count": 11,
     "metadata": {},
     "output_type": "execute_result"
    }
   ],
   "source": [
    "FAQ[:2]"
   ]
  },
  {
   "cell_type": "markdown",
   "id": "2d642ff0-def0-46f7-b325-78943ad44fca",
   "metadata": {},
   "source": [
    "So the FAQs are in a list with dictionaries containing `question`, `answer` and `type`. we will work with the FAQ as a hardcoded string into a prompt, so we won't need to have a collection for querying on it."
   ]
  },
  {
   "cell_type": "code",
   "execution_count": 12,
   "id": "be9b16cb-3ccc-4bc9-ab06-44ca26c64f80",
   "metadata": {
    "tags": []
   },
   "outputs": [
    {
     "data": {
      "text/plain": [
       "25"
      ]
     },
     "execution_count": 12,
     "metadata": {},
     "output_type": "execute_result"
    }
   ],
   "source": [
    "len(FAQ)"
   ]
  },
  {
   "cell_type": "code",
   "execution_count": 13,
   "id": "29297116-a021-4fb0-b38c-ca02ceec7089",
   "metadata": {
    "tags": []
   },
   "outputs": [
    {
     "data": {
      "text/plain": [
       "44424"
      ]
     },
     "execution_count": 13,
     "metadata": {},
     "output_type": "execute_result"
    }
   ],
   "source": [
    "len(PRODUCTS_DATA)"
   ]
  },
  {
   "cell_type": "code",
   "execution_count": null,
   "id": "ab8ac7bb-1ddc-4d28-8428-31437ef9d9b3",
   "metadata": {},
   "outputs": [],
   "source": []
  },
  {
   "cell_type": "markdown",
   "id": "cc424f69-96b7-4e1b-a1df-5dee9bf9f6ec",
   "metadata": {},
   "source": [
    "## Task routing\n",
    "\n",
    "### Deciding if a query is FAQ or Product related"
   ]
  },
  {
   "cell_type": "code",
   "execution_count": 14,
   "id": "95a069c9-baf8-4d25-80e0-9b42e4302060",
   "metadata": {
    "tags": []
   },
   "outputs": [],
   "source": [
    "def check_if_faq_or_product(query: str) -> str:\n",
    "    \"\"\"\n",
    "    Determines whether a given instruction prompt is related to a frequently asked question (FAQ) or a product inquiry.\n",
    "\n",
    "    Parameters:\n",
    "    - query (str): The instruction or query to be labeled as either FAQ or product-related.\n",
    "\n",
    "    Returns:\n",
    "    - str: The label 'FAQ' if the prompt is classified as a frequently asked question, 'Product' if it relates to product information, or\n",
    "      None if the label is inconclusive.\n",
    "    \"\"\"\n",
    "\n",
    "    prompt = f\"\"\"\n",
    "You are a text classification assistant. \n",
    "Your task is to label the following instruction as either 'FAQ' or 'Product'. \n",
    "\n",
    "Definitions:\n",
    "- Product: Queries that ask about specific clothes, their features, prices, colors, availability, or details related to purchasing products.\n",
    "- FAQ: Queries that ask about store policies, refunds, returns, shipping, sizing help, or other general information not tied to a specific product.\n",
    "\n",
    "Examples:\n",
    "1. \"Is there a refund for incorrectly bought clothes?\": FAQ\n",
    "2. \"Tell me about the cheapest T-shirts that you have.\": Product\n",
    "3. \"Do you have blue T-shirts under 100 dollars?\": Product\n",
    "4. \"I bought a T-shirt and I didn't like it. How can I get a refund?\": FAQ\n",
    "5. \"What sizes are available in jackets?\": Product\n",
    "6. \"How long does shipping usually take?\": FAQ\n",
    "\n",
    "Instructions:\n",
    "- Return only ONE word: either 'FAQ' or 'Product'.\n",
    "- Do not include explanations, punctuation, or extra words.\n",
    "\n",
    "Instruction: {query}\n",
    "Answer:\n",
    "\"\"\"\n",
    "    kwargs = generate_params_dict(prompt, temperature=0)\n",
    "\n",
    "    response = generate_with_single_input(**kwargs)\n",
    "\n",
    "    label = response['content']\n",
    "    \n",
    "    return label"
   ]
  },
  {
   "cell_type": "code",
   "execution_count": 15,
   "id": "29122c90-b29d-4c14-9f0a-f20c41b7bf9d",
   "metadata": {
    "tags": []
   },
   "outputs": [
    {
     "name": "stdout",
     "output_type": "stream",
     "text": [
      "Query: What is your return policy? Label: FAQ\n",
      "Query: Give me three examples of blue T-shirts you have available. Label: Product\n",
      "Query: How can I contact the user support? Label: FAQ\n",
      "Query: Do you have blue Dresses? Label: Product\n",
      "Query: Create a look suitable for a wedding party happening during dawn. Label: Product\n"
     ]
    }
   ],
   "source": [
    "queries = ['What is your return policy?', \n",
    "           'Give me three examples of blue T-shirts you have available.', \n",
    "           'How can I contact the user support?', \n",
    "           'Do you have blue Dresses?',\n",
    "           'Create a look suitable for a wedding party happening during dawn.']\n",
    "\n",
    "for query in queries:\n",
    "    response = check_if_faq_or_product(query)\n",
    "    label = response\n",
    "    print(f\"Query: {query} Label: {label}\")"
   ]
  },
  {
   "cell_type": "code",
   "execution_count": null,
   "id": "60a43e58-9212-4f23-b6fc-8ec252ae91d1",
   "metadata": {},
   "outputs": [],
   "source": []
  },
  {
   "cell_type": "markdown",
   "id": "3238e35e-f8a7-4de7-bb23-6e48a02ef674",
   "metadata": {},
   "source": [
    "### Answering a FAQ question\n",
    "\n",
    "We have a method to decide whether a query is for FAQ or Product, we will create another function to answer a FAQ question.\n",
    "\n",
    "This function also needs a hardcoded prompt and the FAQ question and answer pairs. For that, we will create a FAQ layout with these pairs. "
   ]
  },
  {
   "cell_type": "code",
   "execution_count": 16,
   "id": "20041258-06cf-4edc-ab16-99b51054662c",
   "metadata": {
    "tags": []
   },
   "outputs": [
    {
     "data": {
      "text/plain": [
       "{'question': 'What are your store hours?',\n",
       " 'answer': 'Our online store is open 24/7. Customer service is available from 9:00 AM to 6:00 PM, Monday through Friday.',\n",
       " 'type': 'general information'}"
      ]
     },
     "execution_count": 16,
     "metadata": {},
     "output_type": "execute_result"
    }
   ],
   "source": [
    "FAQ[0]"
   ]
  },
  {
   "cell_type": "markdown",
   "id": "d53a4fd8-a2eb-4abb-8595-dba7fe36232d",
   "metadata": {},
   "source": [
    "#### Creating the FAQ Layout"
   ]
  },
  {
   "cell_type": "code",
   "execution_count": 17,
   "id": "451476e0-6e88-4c1d-ae42-a4ebd5ba945e",
   "metadata": {
    "tags": []
   },
   "outputs": [],
   "source": [
    "def generate_faq_layout(faq_dict: list) -> str:\n",
    "    t = \"\"\n",
    "\n",
    "    # Iterate over every FAQ question in the FAQ list\n",
    "    for f in faq_dict:\n",
    "        t += f\"Question: {f['question']} Answer: {f['answer']} Type: {f['type']}\\n\" \n",
    "  \n",
    "    return t"
   ]
  },
  {
   "cell_type": "code",
   "execution_count": 18,
   "id": "a6c47f02-f3e4-4d5c-b64d-592837c7dd1b",
   "metadata": {
    "tags": []
   },
   "outputs": [
    {
     "name": "stdout",
     "output_type": "stream",
     "text": [
      "Question: What are your store hours? Answer: Our online store is open 24/7. Customer service is available from 9:00 AM to 6:00 PM, Monday through Friday. Type: general information\n",
      "Question: Where is Fashion Forward Hub located? Answer: Fashion Forward Hub is primarily an online store. Our corporate office is located at 123 Fashion Lane, Trend City, Style State. Type: general information\n",
      "Question: Do you have a physical store location? Answer: At this time, we operate exclusively online. This allows us to offer a broader selection and lower prices directly to you. Type: general information\n",
      "Question: How can I create an account with Fashion Forward Hub? Answer: Click on 'Sign Up' in the top right corner of our website and follow the instructions to set up your account. Type: general information\n",
      "Question: How do I subscribe to your newsletter? Answer: To receive the latest updates and promotions, sign up for our newsletter at the bottom of our homepage. Type: general information\n",
      "Question:\n"
     ]
    }
   ],
   "source": [
    "FAQ_LAYOUT = generate_faq_layout(FAQ)\n",
    "print(FAQ_LAYOUT[:1000])"
   ]
  },
  {
   "cell_type": "code",
   "execution_count": null,
   "id": "4bb0e3f2-3d8d-477b-8dda-76c8cf5fec5f",
   "metadata": {},
   "outputs": [],
   "source": []
  },
  {
   "cell_type": "code",
   "execution_count": 19,
   "id": "7628c4e3-80f5-4a36-878b-cb580c18ddee",
   "metadata": {
    "tags": []
   },
   "outputs": [],
   "source": [
    "def query_on_faq(query: str, **kwargs) -> dict:\n",
    "    \"\"\"\n",
    "    Constructs a prompt to query an FAQ system.\n",
    "\n",
    "    Parameters:\n",
    "    - query (str): The query about which the function seeks to provide an answer from the FAQ.\n",
    "    - **kwargs: Optional keyword arguments for extra configuration of prompt parameters.\n",
    "    \"\"\"\n",
    "    \n",
    "    prompt = f\"\"\"\n",
    "You are an assistant that answers customer questions using only the provided FAQ content. \n",
    "\n",
    "Instructions:\n",
    "- Use only the information from the FAQ to answer the question.\n",
    "- If multiple FAQ entries are relevant, combine them into a single helpful answer.\n",
    "- Do not mention the FAQ or that the answer is coming from an FAQ.\n",
    "- Be clear and concise, but cover all relevant details.\n",
    "\n",
    "<FAQ>\n",
    "{FAQ_LAYOUT}\n",
    "</FAQ>\n",
    "\n",
    "Question: {query}\n",
    "Answer:\n",
    "\"\"\" \n",
    "\n",
    "    kwargs = generate_params_dict(prompt, **kwargs)\n",
    "    \n",
    "    return kwargs"
   ]
  },
  {
   "cell_type": "code",
   "execution_count": 20,
   "id": "8d7f987a-a13c-4fef-9902-83cfe8456d70",
   "metadata": {
    "tags": []
   },
   "outputs": [
    {
     "name": "stdout",
     "output_type": "stream",
     "text": [
      "To initiate a return, go to our Returns Center and select the item you wish to exchange or return. You will need to provide a reason for the return and print a return shipping label. Once we receive the item, we will process your return within 5-7 business days. Please note that sale items are final sale and cannot be returned or exchanged, unless stated otherwise.\n"
     ]
    }
   ],
   "source": [
    "kwargs = query_on_faq(\"I got my cloth but I didn't like it. How can I return it?\")\n",
    "content = generate_with_single_input(**kwargs)\n",
    "print(content['content'])"
   ]
  },
  {
   "cell_type": "code",
   "execution_count": null,
   "id": "22210c61-29ee-42f5-be6d-a83d73c3456d",
   "metadata": {},
   "outputs": [],
   "source": []
  },
  {
   "cell_type": "code",
   "execution_count": null,
   "id": "c7dec0ba-e364-4cc1-9d2e-f8513e43d9c7",
   "metadata": {},
   "outputs": [],
   "source": []
  },
  {
   "cell_type": "markdown",
   "id": "0ca7f4aa-5960-42ca-a543-ab25f0fad103",
   "metadata": {},
   "source": [
    "### Decide the Nature of a Product-Related Question\n",
    "\n",
    "Now, let's start working with product-related queries.\n",
    "\n",
    "- **Technical queries** – asking for descriptions of specific products, such as whether a blue dress is available or requesting three examples of red T-shirts suitable for sunny days.\n",
    "- **Creative queries** – asking for help creating a stylish look for visiting a museum."
   ]
  },
  {
   "cell_type": "code",
   "execution_count": 21,
   "id": "fc827efa-9229-4fcb-82ff-71e5652fe63f",
   "metadata": {
    "tags": []
   },
   "outputs": [],
   "source": [
    "def decide_task_nature(query: str) -> str:\n",
    "    \"\"\"\n",
    "    Determines whether a query is creative or technical.\n",
    "\n",
    "    This function constructs a prompt for an LLM to decide if a given query requires a creative response,\n",
    "    such as making suggestions or composing ideas, or a technical response, such as providing product details or prices.\n",
    "\n",
    "    Parameters:\n",
    "    - query (str): The query to be evaluated for its nature.\n",
    "\n",
    "    Returns:\n",
    "    - str: The label 'creative' if the query requires creative input, or 'technical' if it requires technical information.\n",
    "    \"\"\"\n",
    "\n",
    "    prompt = f\"\"\"\n",
    "Decide if the following query is a query that requires creativity (creating, composing, making new things) \n",
    "or technical (information about products, availability, descriptions, or prices). \n",
    "\n",
    "Definitions:\n",
    "- Creative: requires imagination or styling advice (e.g., suggesting looks, composing outfits, matching accessories).\n",
    "- Technical: requests factual product information (availability, price, catalog items, counts, colors, sizes).\n",
    "\n",
    "Label it strictly as either \"creative\" or \"technical\".\n",
    "\n",
    "Examples:\n",
    "- \"Give me suggestions on a nice look for a nightclub.\" → creative\n",
    "- \"What are the blue dresses you have available?\" → technical\n",
    "- \"Give me three T-shirts for summer.\" → technical\n",
    "- \"Give me a look for attending a wedding party.\" → creative\n",
    "- \"Suggest a stylish outfit for visiting a museum.\" → creative\n",
    "- \"Do you have red jackets under 50 dollars?\" → technical\n",
    "\n",
    "Query to be analyzed: {query}\n",
    "\n",
    "Only output one word: \"creative\" or \"technical\".\n",
    "\"\"\"\n",
    "\n",
    "\n",
    "    # Build kwargs for strict behavior\n",
    "    kwargs = generate_params_dict(prompt, temperature=0, max_tokens=1)\n",
    "\n",
    "    # Call the model\n",
    "    response = generate_with_single_input(**kwargs)\n",
    "\n",
    "    # Extract and clean label\n",
    "    label = response['content'].strip().lower()\n",
    "    \n",
    "    return label"
   ]
  },
  {
   "cell_type": "code",
   "execution_count": 22,
   "id": "1d6148a0-ab13-4370-b22f-8825b53fabe1",
   "metadata": {
    "tags": []
   },
   "outputs": [
    {
     "name": "stdout",
     "output_type": "stream",
     "text": [
      "Query: Give me two sneakers with vibrant colors. Label: technical\n",
      "--------------------------------------------------------------------------------\n",
      "Query: What are the most expensive clothes you have in your catalogue? Label: technical\n",
      "--------------------------------------------------------------------------------\n",
      "Query: I have a green dress and I like a suggestion on an accessory to match with it. Label: creative\n",
      "--------------------------------------------------------------------------------\n",
      "Query: Give me three trousers with vibrant colors you have in your catalogue. Label: technical\n",
      "--------------------------------------------------------------------------------\n",
      "Query: Create a look for a woman walking in a park on a sunny day. It must be fresh due to hot weather. Label: creative\n",
      "--------------------------------------------------------------------------------\n"
     ]
    }
   ],
   "source": [
    "queries = [\"Give me two sneakers with vibrant colors.\",\n",
    "           \"What are the most expensive clothes you have in your catalogue?\",\n",
    "           \"I have a green dress and I like a suggestion on an accessory to match with it.\",\n",
    "           \"Give me three trousers with vibrant colors you have in your catalogue.\",\n",
    "           \"Create a look for a woman walking in a park on a sunny day. It must be fresh due to hot weather.\"\n",
    "           ]\n",
    "\n",
    "\n",
    "for query in queries:\n",
    "    label = decide_task_nature(query)\n",
    "    print(f\"Query: {query} Label: {label}\")\n",
    "    print('-'*80)"
   ]
  },
  {
   "cell_type": "code",
   "execution_count": null,
   "id": "1535e47a-be23-4772-b27f-1b930c987f9f",
   "metadata": {},
   "outputs": [],
   "source": []
  },
  {
   "cell_type": "markdown",
   "id": "233c1fe4-c7b8-4d3f-9d7a-e934cd0ff026",
   "metadata": {
    "tags": []
   },
   "source": [
    "### Retrieving the Parameters for a Given Task\n",
    "\n",
    "A function that, given a task, returns the appropriate values for `top_p` and `temperature`.\n",
    "\n",
    "For **technical** queries, **low randomness is preferred**, whereas for **creative** tasks, **higher randomness might be more suitable**. "
   ]
  },
  {
   "cell_type": "code",
   "execution_count": 23,
   "id": "d3b357ac-af3f-4004-97db-64375e1fffd2",
   "metadata": {
    "tags": []
   },
   "outputs": [],
   "source": [
    "def get_params_for_task(task: str) -> dict:\n",
    "    \"\"\"\n",
    "    Retrieves specific LLM parameters based on the nature of the task.\n",
    "\n",
    "    Creative tasks benefit from higher randomness, while technical tasks \n",
    "    require more focus and precision. A default parameter set is returned \n",
    "    for unrecognized task types.\n",
    "    \"\"\"\n",
    "\n",
    "    # Define the parameter sets for technical and creative tasks\n",
    "    PARAMETERS_DICT = {\n",
    "        \"creative\": {\"top_p\": 0.9, \"temperature\": 1.0},\n",
    "        \"technical\": {\"top_p\": 0.7, \"temperature\": 0.3}\n",
    "    }\n",
    "\n",
    "    # Return the corresponding parameter set based on task type\n",
    "    if task == \"technical\":\n",
    "        param_dict = PARAMETERS_DICT[\"technical\"]\n",
    "    elif task == \"creative\":\n",
    "        param_dict = PARAMETERS_DICT[\"creative\"]\n",
    "    else:\n",
    "        # Fallback: safe middle ground\n",
    "        param_dict = {\"top_p\": 0.8, \"temperature\": 0.5}\n",
    "\n",
    "    return param_dict"
   ]
  },
  {
   "cell_type": "code",
   "execution_count": 24,
   "id": "bda2999e-413f-42af-9c08-858291cecb88",
   "metadata": {
    "tags": []
   },
   "outputs": [
    {
     "data": {
      "text/plain": [
       "{'top_p': 0.7, 'temperature': 0.3}"
      ]
     },
     "execution_count": 24,
     "metadata": {},
     "output_type": "execute_result"
    }
   ],
   "source": [
    "get_params_for_task(\"technical\")"
   ]
  },
  {
   "cell_type": "code",
   "execution_count": null,
   "id": "4fde6b16-fd28-47c5-ba99-fabb6307f1df",
   "metadata": {},
   "outputs": [],
   "source": []
  },
  {
   "cell_type": "markdown",
   "id": "6df547a3-1066-4a75-993e-45c04310b31f",
   "metadata": {},
   "source": [
    "## Retrieving Items Based on Metadata Inferred from a Query\n",
    "\n",
    "We will create a function to extract useful metadata to help filter the items shown to it. we’ll get a JSON file with different features and all the possible values found in the dataset. Our job is to pass these values to Our database, so the LLM can pick the ones that make the most sense. And of course, we'll also need to handle situations where the LLM might not find a correct value.\n",
    "\n",
    "The values we’ll focus on are:\n",
    "- gender  \n",
    "- masterCategory  \n",
    "- articleType  \n",
    "- baseColour  \n",
    "- season  \n",
    "- usage\n",
    "\n",
    "These were chosen because they strike a good balance — they’re specific enough to be useful, but general enough to avoid empty results. Some other features in the dataset are too detailed and could lead to no matches. Also, including every single value would make the prompt too large, which could slow things down and raise costs."
   ]
  },
  {
   "cell_type": "code",
   "execution_count": 25,
   "id": "9fc85387-60ae-412b-b2ed-5594b3eeb963",
   "metadata": {
    "tags": []
   },
   "outputs": [
    {
     "data": {
      "text/plain": [
       "{'gender': 'Men',\n",
       " 'masterCategory': 'Apparel',\n",
       " 'subCategory': 'Topwear',\n",
       " 'articleType': 'Shirts',\n",
       " 'baseColour': 'Navy Blue',\n",
       " 'season': 'Fall',\n",
       " 'year': 2011.0,\n",
       " 'usage': 'Casual',\n",
       " 'productDisplayName': 'Turtle Check Men Navy Blue Shirt',\n",
       " 'price': 67,\n",
       " 'product_id': 15970}"
      ]
     },
     "execution_count": 25,
     "metadata": {},
     "output_type": "execute_result"
    }
   ],
   "source": [
    "PRODUCTS_DATA[0]"
   ]
  },
  {
   "cell_type": "code",
   "execution_count": 26,
   "id": "02a97fff-5ec0-4ec2-a1b4-5fa7a2b4c3ac",
   "metadata": {
    "tags": []
   },
   "outputs": [],
   "source": [
    "# generate the dictionary with the possible values for each key\n",
    "values = {}\n",
    "for d in PRODUCTS_DATA:\n",
    "    for key, val in d.items():\n",
    "        if key in ('product_id', 'price', 'productDisplayName', 'subCategory', 'year'):\n",
    "            continue\n",
    "        if key not in values.keys():\n",
    "            values[key] = set()\n",
    "        values[key].add(val)"
   ]
  },
  {
   "cell_type": "code",
   "execution_count": 27,
   "id": "00b839e7-f299-44a1-8e81-7a992b1b0e72",
   "metadata": {
    "tags": []
   },
   "outputs": [
    {
     "data": {
      "text/plain": [
       "{'All seasons', 'Fall', 'Spring', 'Summer', 'Winter'}"
      ]
     },
     "execution_count": 27,
     "metadata": {},
     "output_type": "execute_result"
    }
   ],
   "source": [
    "values['season']"
   ]
  },
  {
   "cell_type": "code",
   "execution_count": 28,
   "id": "0cd6955a-3b6a-451f-a40f-953fad0b656d",
   "metadata": {
    "tags": []
   },
   "outputs": [
    {
     "data": {
      "text/plain": [
       "dict_keys(['gender', 'masterCategory', 'articleType', 'baseColour', 'season', 'usage'])"
      ]
     },
     "execution_count": 28,
     "metadata": {},
     "output_type": "execute_result"
    }
   ],
   "source": [
    "values.keys()"
   ]
  },
  {
   "cell_type": "code",
   "execution_count": null,
   "id": "88f23bd4-19cb-4d68-9783-5b0131384a03",
   "metadata": {},
   "outputs": [],
   "source": []
  },
  {
   "cell_type": "markdown",
   "id": "9db79474-fcdc-47d5-96d5-f6f6e6342a89",
   "metadata": {
    "tags": []
   },
   "source": [
    "### Generate metadata\n",
    "\n",
    "The next function’s purpose is to extract potential metadata from a given query. The approach is to construct a prompt that incorporates the `values` dictionary, which lists possible feature values. the LLM is then asked to generate a JSON response suggesting metadata relevant to the query. \n",
    "\n",
    "The LLM must also handle price constraints. If the query specifies a price range, the JSON should include a key like this:\n",
    "\n",
    "```json\n",
    "\"price\": {\"min\": min_value, \"max\": max_value}\n",
    "```\n",
    "\n",
    "If no price constraint is provided, the LLM should default to:\n",
    "\n",
    "```json\n",
    "\"price\": {\"min\": 0, \"max\": \"inf\"}\n",
    "```"
   ]
  },
  {
   "cell_type": "code",
   "execution_count": null,
   "id": "550561e8-2c13-4216-a371-0babab3eb489",
   "metadata": {},
   "outputs": [],
   "source": []
  },
  {
   "cell_type": "code",
   "execution_count": 29,
   "id": "a53c1e83-aa1d-4ee7-bb9c-db23c3d909db",
   "metadata": {
    "tags": []
   },
   "outputs": [],
   "source": [
    "def generate_metadata_from_query(query: str) -> str:\n",
    "    \"\"\"\n",
    "    Generates metadata in JSON format based on a given query to filter clothing items.\n",
    "\n",
    "    Uses possible values from PRODUCTS_DATA (stored in values dictionary).\n",
    "    Ensures only valid metadata is extracted for filtering.\n",
    "    \"\"\"\n",
    "\n",
    "    prompt = f\"\"\"\n",
    "    A query will be provided. Based on this query, a vector database will be searched to find relevant clothing items.\n",
    "    Generate a JSON object containing useful metadata to filter products for this query.\n",
    "\n",
    "    The possible values for each feature are given in the following JSON:\n",
    "    {values}\n",
    "\n",
    "    Provide a JSON with the features that best fit the query. \n",
    "    Rules:\n",
    "    - Always include these keys: gender, masterCategory, articleType, baseColour, price, usage, season\n",
    "    - Each value must be inside a list (even if there is only one)\n",
    "    - Only use values from the JSON provided above\n",
    "    - If a price range is mentioned, add it under \"price\": {{\"min\": x, \"max\": y}}\n",
    "    - If no price range is given, set price to: {{\"min\": 0, \"max\": \"inf\"}}\n",
    "    - Return only the JSON, nothing else\n",
    "\n",
    "    Example of expected JSON:\n",
    "    {{\n",
    "      \"gender\": [\"Women\"],\n",
    "      \"masterCategory\": [\"Apparel\"],\n",
    "      \"articleType\": [\"Dresses\"],\n",
    "      \"baseColour\": [\"Blue\"],\n",
    "      \"price\": {{\"min\": 0, \"max\": \"inf\"}},\n",
    "      \"usage\": [\"Formal\"],\n",
    "      \"season\": [\"All seasons\"]\n",
    "    }}\n",
    "\n",
    "    Query: {query}\n",
    "    \"\"\"\n",
    "\n",
    "    # Generate the response with low randomness (temperature=0)\n",
    "    response = generate_with_single_input(\n",
    "        prompt,\n",
    "        temperature=0,\n",
    "        max_tokens=1500\n",
    "    )\n",
    "\n",
    "    # Extract the generated JSON content\n",
    "    content = response[\"content\"]\n",
    "    \n",
    "    return content"
   ]
  },
  {
   "cell_type": "code",
   "execution_count": 30,
   "id": "9dc278c5-53df-46c7-8633-689ffc3a5ef1",
   "metadata": {
    "tags": []
   },
   "outputs": [
    {
     "name": "stdout",
     "output_type": "stream",
     "text": [
      "{\n",
      "  \"gender\": [\"Men\"],\n",
      "  \"masterCategory\": [\"Apparel\"],\n",
      "  \"articleType\": [\"Shirts\", \"Shorts\", \"Sunglasses\"],\n",
      "  \"baseColour\": [\"Yellow\", \"Orange\", \"Green\", \"Blue\", \"Red\"],\n",
      "  \"price\": {\"min\": 0, \"max\": 300},\n",
      "  \"usage\": [\"Casual\", \"Sports\"],\n",
      "  \"season\": [\"Summer\"]\n",
      "}\n"
     ]
    }
   ],
   "source": [
    "print(generate_metadata_from_query(\"Create a look for a man that suits a sunny day in the park. I don't want to spend more than 300 dollars on each piece.\"))"
   ]
  },
  {
   "cell_type": "code",
   "execution_count": null,
   "id": "560d4a05-50b1-40ef-bdb7-d49ed59c57d0",
   "metadata": {},
   "outputs": [],
   "source": []
  },
  {
   "cell_type": "markdown",
   "id": "9d70c5db-9e53-4a74-861e-00bb46cba819",
   "metadata": {},
   "source": [
    "The next functions are helper functions to extract the JSON from the query. we also need to handle the case where the LLM doesn't provide a valid and recoverable JSON. In this case, the code will just create an empty filter."
   ]
  },
  {
   "cell_type": "code",
   "execution_count": 31,
   "id": "d27de984-d349-4b27-80b3-8a72b0f13490",
   "metadata": {
    "tags": []
   },
   "outputs": [],
   "source": [
    "def parse_json_output(llm_output: str) -> dict:\n",
    "    try:\n",
    "        llm_output = llm_output.replace(\"\\n\", '').replace(\"'\",'').replace(\"}}\", \"}\").replace(\"{{\", \"{\")\n",
    "        parsed_json = json.loads(llm_output)\n",
    "        return parsed_json\n",
    "    except json.JSONDecodeError as e:\n",
    "        print(f\"JSON parsing failed: {e}\")\n",
    "        return None"
   ]
  },
  {
   "cell_type": "code",
   "execution_count": 32,
   "id": "e29b60cb-22c1-4310-bea1-06c5f9048b2a",
   "metadata": {
    "tags": []
   },
   "outputs": [
    {
     "data": {
      "text/plain": [
       "{'gender': ['Women'],\n",
       " 'masterCategory': ['Apparel'],\n",
       " 'articleType': ['Dresses'],\n",
       " 'baseColour': ['Blue'],\n",
       " 'price': {'min': 50, 'max': 200},\n",
       " 'usage': ['Formal'],\n",
       " 'season': ['All seasons']}"
      ]
     },
     "execution_count": 32,
     "metadata": {},
     "output_type": "execute_result"
    }
   ],
   "source": [
    "json_string = generate_metadata_from_query(\"Give me three blue dresses suitable for a wedding party, less than 200 dollars and at least 50 dollars\")\n",
    "json_output = parse_json_output(json_string)\n",
    "json_output"
   ]
  },
  {
   "cell_type": "code",
   "execution_count": 33,
   "id": "b5f8babe-0167-480a-8c3d-9fae089b72c6",
   "metadata": {
    "tags": []
   },
   "outputs": [
    {
     "data": {
      "text/plain": [
       "dict"
      ]
     },
     "execution_count": 33,
     "metadata": {},
     "output_type": "execute_result"
    }
   ],
   "source": [
    "type(json_output)"
   ]
  },
  {
   "cell_type": "code",
   "execution_count": null,
   "id": "deec6ac6-a7d2-4fcc-baea-72491c5ab2d7",
   "metadata": {},
   "outputs": [],
   "source": []
  },
  {
   "cell_type": "markdown",
   "id": "cea8dcf1-0117-4714-a822-30f2ec0c31ab",
   "metadata": {},
   "source": [
    "### Loading the Weaviate Product Collection\n",
    "\n",
    "Now it is time to work with the Weaviate collection. It is already built and it is the product_data, but added as a Weaviate collection, so we can query with semantic search and metadata filtering."
   ]
  },
  {
   "cell_type": "markdown",
   "id": "8507be21-ba67-43e1-99e1-7f8c45989d6d",
   "metadata": {
    "tags": []
   },
   "source": [
    "### Loading the Weaviate client\n",
    "\n",
    "We will use the Weaviate API to load the vector database."
   ]
  },
  {
   "cell_type": "code",
   "execution_count": 34,
   "id": "2652b62f-3641-4804-bf50-9aca083855e7",
   "metadata": {
    "tags": []
   },
   "outputs": [],
   "source": [
    "client = weaviate.connect_to_local(port=8079, grpc_port=50050)"
   ]
  },
  {
   "cell_type": "code",
   "execution_count": null,
   "id": "5b095d5b-eb7e-4351-a2df-f29fa6c06aa0",
   "metadata": {},
   "outputs": [],
   "source": []
  },
  {
   "cell_type": "code",
   "execution_count": 35,
   "id": "c2f0943b-a315-43f7-8ac9-8d62a85409ea",
   "metadata": {
    "tags": []
   },
   "outputs": [],
   "source": [
    "products_collection = client.collections.get('products')"
   ]
  },
  {
   "cell_type": "code",
   "execution_count": 36,
   "id": "9c4965ff-ed4c-4c69-b68e-935773151b38",
   "metadata": {
    "tags": []
   },
   "outputs": [
    {
     "data": {
      "text/plain": [
       "44423"
      ]
     },
     "execution_count": 36,
     "metadata": {},
     "output_type": "execute_result"
    }
   ],
   "source": [
    "len(products_collection)"
   ]
  },
  {
   "cell_type": "code",
   "execution_count": null,
   "id": "675e249f-665e-4065-915e-05e0ded91160",
   "metadata": {},
   "outputs": [],
   "source": []
  },
  {
   "cell_type": "markdown",
   "id": "5236a00d-e7d3-4917-ae36-0de17d3a967d",
   "metadata": {},
   "source": [
    "### Filtering by metadata\n",
    "\n",
    "This function will create the filters given the metadata. It will create a `Filter` object for each key in the dictionary of metadata. "
   ]
  },
  {
   "cell_type": "code",
   "execution_count": 37,
   "id": "a3f72590-4013-4d1e-9efc-5e3a6a5f0808",
   "metadata": {
    "tags": []
   },
   "outputs": [],
   "source": [
    "def get_filter_by_metadata(json_output: dict = None):\n",
    "    \"\"\"\n",
    "    Generate a list of Weaviate filters based on a provided metadata dictionary.\n",
    "\n",
    "    Parameters:\n",
    "    - json_output (dict) or None: Dictionary containing metadata keys and their values.\n",
    "\n",
    "    Returns:\n",
    "    - list[Filter] or None: A list of Weaviate filters, or None if input is None.\n",
    "    \"\"\"\n",
    "    # If the input dictionary is None, return None immediately\n",
    "    if json_output is None:\n",
    "        return None\n",
    "\n",
    "    # Define a tuple of valid keys that are allowed for filtering\n",
    "    valid_keys = (\n",
    "        'gender',\n",
    "        'masterCategory',\n",
    "        'articleType',\n",
    "        'baseColour',\n",
    "        'price',\n",
    "        'usage',\n",
    "        'season',\n",
    "    )\n",
    "\n",
    "    # Initialize an empty list to store the filters\n",
    "    filters = []\n",
    "\n",
    "    # Iterate over each key-value pair in the input dictionary\n",
    "    for key, value in json_output.items():\n",
    "        # Skip the key if it is not in the list of valid keys\n",
    "        if key not in valid_keys:\n",
    "            continue\n",
    "\n",
    "        # Special handling for the 'price' key\n",
    "        if key == 'price':\n",
    "            # Ensure the value associated with 'price' is a dictionary\n",
    "            if not isinstance(value, dict):\n",
    "                continue\n",
    "\n",
    "            # Extract the minimum and maximum prices from the dictionary\n",
    "            min_price = value.get('min')\n",
    "            max_price = value.get('max')\n",
    "\n",
    "            # Skip if either min_price or max_price is not provided\n",
    "            if min_price is None or max_price is None:\n",
    "                continue\n",
    "\n",
    "            # Skip if min_price is non-positive or max_price is infinity\n",
    "            if min_price <= 0 or max_price == 'inf':\n",
    "                continue\n",
    "\n",
    "            # Add filters for price greater than min_price and less than max_price\n",
    "            filters.append(Filter.by_property(key).greater_than(min_price))\n",
    "            filters.append(Filter.by_property(key).less_than(max_price))\n",
    "        else:\n",
    "            # For other valid keys, add a filter that checks for any of the provided values\n",
    "            filters.append(Filter.by_property(key).contains_any(value))\n",
    "\n",
    "    return filters"
   ]
  },
  {
   "cell_type": "markdown",
   "id": "11cc3917-aa05-47a1-b8cb-2c3dff845274",
   "metadata": {},
   "source": [
    "This is wrapper function, that, given a query, return the desired filters."
   ]
  },
  {
   "cell_type": "code",
   "execution_count": 38,
   "id": "41e2b090-1041-4934-9377-baca5766ab5e",
   "metadata": {
    "tags": []
   },
   "outputs": [],
   "source": [
    "def generate_filters_from_query(query: str) -> list:\n",
    "    json_string = generate_metadata_from_query(query)\n",
    "    json_output = parse_json_output(json_string)\n",
    "    filters = get_filter_by_metadata(json_output)\n",
    "    return filters"
   ]
  },
  {
   "cell_type": "code",
   "execution_count": 39,
   "id": "f5059226-719f-4c20-8ac1-e4afa1153a92",
   "metadata": {
    "tags": []
   },
   "outputs": [
    {
     "data": {
      "text/plain": [
       "[_FilterValue(value=['Men', 'Women'], operator=<_Operator.CONTAINS_ANY: 'ContainsAny'>, target='gender'),\n",
       " _FilterValue(value=['Apparel'], operator=<_Operator.CONTAINS_ANY: 'ContainsAny'>, target='masterCategory'),\n",
       " _FilterValue(value=['Tshirts'], operator=<_Operator.CONTAINS_ANY: 'ContainsAny'>, target='articleType'),\n",
       " _FilterValue(value=['Yellow', 'Orange', 'Lime Green'], operator=<_Operator.CONTAINS_ANY: 'ContainsAny'>, target='baseColour'),\n",
       " _FilterValue(value=['Casual', 'Smart Casual'], operator=<_Operator.CONTAINS_ANY: 'ContainsAny'>, target='usage'),\n",
       " _FilterValue(value=['Summer'], operator=<_Operator.CONTAINS_ANY: 'ContainsAny'>, target='season')]"
      ]
     },
     "execution_count": 39,
     "metadata": {},
     "output_type": "execute_result"
    }
   ],
   "source": [
    "filters = generate_filters_from_query(\"Give me three T-shirts to use in sunny days\")\n",
    "filters"
   ]
  },
  {
   "cell_type": "markdown",
   "id": "b773d9d2-f318-4d2b-a7b7-17842c24c747",
   "metadata": {},
   "source": [
    "Note that the filters are there with the correct metadata.\n",
    "\n",
    "The next function will get the relevant products from the query, by generating the filters, running a semantic search using the query, and then perform the metadata filtering to narrow down the possibilities and increase accuracy. \n",
    "\n",
    "It deals with the case where the set of metadata returns too few results by incrementally removing some filters until it gets a result with more than 5 possibilities."
   ]
  },
  {
   "cell_type": "code",
   "execution_count": 40,
   "id": "ece0a03c-04dd-4548-b3e4-789c5339af73",
   "metadata": {
    "tags": []
   },
   "outputs": [],
   "source": [
    "def get_relevant_products_from_query(query: str):\n",
    "    \"\"\"\n",
    "    Retrieve products that are most relevant to a given query by applying filters.\n",
    "\n",
    "    This function generates filters based on the provided query and uses them to find \n",
    "    products that closely match the query criteria. If no filters are applicable or if \n",
    "    the initial search returns a small number of products, the function dynamically reduces \n",
    "    the filtering constraints based on a predefined order of filter importance.\n",
    "\n",
    "    Parameters:\n",
    "    query (str): The query string used to search for relevant products.\n",
    "\n",
    "    Returns:\n",
    "    list: A list of product objects that are most relevant to the query. If filters are not effective,\n",
    "          it adjusts them to ensure a minimum return of products.\n",
    "    \"\"\"\n",
    "    filters = generate_filters_from_query(query)  # Generate filters based on query\n",
    "\n",
    "    # Check if there are no applicable filters\n",
    "    if filters is None or len(filters) == 0:\n",
    "        # Query the collection without filters, using the query text for relevance\n",
    "        res = products_collection.query.near_text(query, limit=20).objects\n",
    "        return res\n",
    "\n",
    "    # Query with filters and limit to top 20 relevant objects\n",
    "    res = products_collection.query.near_text(query, filters=Filter.all_of(filters), limit=20).objects\n",
    "\n",
    "    # If the result set is fewer than 10 products, try reducing filters to broaden the search\n",
    "    importance_order = ['baseColour', 'masterCategory', 'usage', 'masterCategory', 'season', 'gender']\n",
    "\n",
    "    if len(res) < 10:\n",
    "        # Iterate through the importance order of filters\n",
    "        for i in range(len(importance_order)):\n",
    "            # Create a list of filters that excludes less important ones\n",
    "            filtered_filters = [x for x in filters if x.target not in importance_order[i+1:]]\n",
    "            \n",
    "            # Re-query with the reduced set of filters\n",
    "            res = products_collection.query.near_text(query, filters=Filter.all_of(filtered_filters), limit=20).objects\n",
    "            \n",
    "            # If sufficient products have been found, return early\n",
    "            if len(res) >= 5:\n",
    "                return res\n",
    "        # If there are no enough results, perform a basic near_text with only the query.\n",
    "        if len(res) < 5:\n",
    "            res = products_collection.query.near_text(query, limit=20).objects\n",
    "        \n",
    "    return res  # Return the final set of relevant products"
   ]
  },
  {
   "cell_type": "code",
   "execution_count": 41,
   "id": "944466e9-fd48-4dae-8789-7a554ea91753",
   "metadata": {
    "tags": []
   },
   "outputs": [],
   "source": [
    "query = \"Give me three T-shirts to use in sunny days\""
   ]
  },
  {
   "cell_type": "code",
   "execution_count": 42,
   "id": "e191f20e-e959-4e88-86f3-a86fc8156a50",
   "metadata": {
    "tags": []
   },
   "outputs": [],
   "source": [
    "t = get_relevant_products_from_query(\"Give me three T-shirts to use in sunny days\")"
   ]
  },
  {
   "cell_type": "code",
   "execution_count": 43,
   "id": "b67bc9fc-ef4f-44be-bd46-29e7f44b8259",
   "metadata": {
    "tags": []
   },
   "outputs": [
    {
     "name": "stdout",
     "output_type": "stream",
     "text": [
      "{'year': 2011, 'masterCategory': 'Apparel', 'product_id': 1853, 'baseColour': 'Yellow', 'productDisplayName': 'Inkfruit Mens Little Bit More T-shirt', 'season': 'Summer', 'subCategory': 'Topwear', 'price': 50, 'gender': 'Men', 'usage': 'Casual', 'articleType': 'Tshirts'}\n"
     ]
    }
   ],
   "source": [
    "if len(t) > 0:\n",
    "    print(t[0].properties)"
   ]
  },
  {
   "cell_type": "markdown",
   "id": "5b4c2f19-3ea5-4714-b9a2-7eb2d340168f",
   "metadata": {},
   "source": [
    "So, one of the relevant results is indeed a Tshirt! "
   ]
  },
  {
   "cell_type": "code",
   "execution_count": null,
   "id": "9cd221f5-a293-4de9-85bb-1cce27a41c45",
   "metadata": {},
   "outputs": [],
   "source": []
  },
  {
   "cell_type": "markdown",
   "id": "a2f8754e-8572-4966-9a43-d8be1440c693",
   "metadata": {},
   "source": [
    "### Generating the retrieve items as a context\n",
    "\n",
    "Now, for the given retrieved items, let's generate a simple context."
   ]
  },
  {
   "cell_type": "code",
   "execution_count": 44,
   "id": "e4d9d269-fa85-426a-86fb-cd2a3088ed05",
   "metadata": {
    "tags": []
   },
   "outputs": [],
   "source": [
    "def generate_items_context(results: list) -> str:\n",
    "    \"\"\"\n",
    "    Compile detailed product information from a list of result objects into a formatted string.\n",
    "\n",
    "    This function takes a list of results, each containing various product attributes, and constructs \n",
    "    a human-readable summary for each product. Each product's details, including ID, name, category, \n",
    "    usage, gender, type, and other characteristics, are concatenated into a string that describes \n",
    "    all products in the list.\n",
    "\n",
    "    Parameters:\n",
    "    results (list): A list of result objects, each having a `properties` attribute that is a dictionary \n",
    "                    containing product attributes such as 'product_id', 'productDisplayName', \n",
    "                    'masterCategory', 'usage', 'gender', 'articleType', 'subCategory', \n",
    "                    'baseColour', 'season', and 'year'.\n",
    "\n",
    "    Returns:\n",
    "    str: A multi-line string where each line contains the formatted details of a single product.\n",
    "         Each product detail includes the product ID, name, category, usage, gender, type, color, \n",
    "         season, and year.\n",
    "    \"\"\"\n",
    "    t = \"\"  # Initialize an empty string to accumulate product information\n",
    "\n",
    "    for item in results:  # Iterate through each item in the results list\n",
    "        item = item.properties  # Access the properties dictionary of the current item\n",
    "\n",
    "        # Append formatted product details to the output string\n",
    "        t += (\n",
    "            f\"Product ID: {item['product_id']}. \"\n",
    "            f\"Product name: {item['productDisplayName']}. \"\n",
    "            f\"Product Category: {item['masterCategory']}. \"\n",
    "            f\"Product usage: {item['usage']}. \"\n",
    "            f\"Product gender: {item['gender']}. \"\n",
    "            f\"Product Type: {item['articleType']}. \"\n",
    "            f\"Product Category: {item['subCategory']} \"\n",
    "            f\"Product Color: {item['baseColour']}. \"\n",
    "            f\"Product Season: {item['season']}. \"\n",
    "            f\"Product Year: {item['year']}.\\n\"\n",
    "        )\n",
    "\n",
    "    return t  # Return the complete formatted string with product details"
   ]
  },
  {
   "cell_type": "code",
   "execution_count": 45,
   "id": "e00e0b61-a873-402a-a1aa-8711b04e202a",
   "metadata": {
    "tags": []
   },
   "outputs": [
    {
     "name": "stdout",
     "output_type": "stream",
     "text": [
      "Product ID: 1853. Product name: Inkfruit Mens Little Bit More T-shirt. Product Category: Apparel. Product usage: Casual. Product gender: Men. Product Type: Tshirts. Product Category: Topwear Product Color: Yellow. Product Season: Summer. Product Year: 2011.\n",
      "Product ID: 33565. Product name: Wrangler Women Sunset Beach Yellow T-shirt. Product Category: Apparel. Product usage: Casual. Product gender: Women. Product Type: Tshirts. Product Category: Topwear Product Color: Yellow. Product Season: Summer. Product Year: 2012.\n",
      "Product ID: 47281. Product name: Myntra Men Pack of 3 T-shirts. Product Category: Apparel. Product usage: Casual. Product gender: Men. Product Type: Tshirts. Product Category: Topwear Product Color: Yellow. Product Season: Summer. Product Year: 2012.\n",
      "Product ID: 54935. Product name: Do u speak green Women T-shirt. Product Category: Apparel. Product usage: Casual. Product gender: Women. Product Type: Tshirts. Product Category: Topwear Product Color: Yellow. Product Season:\n"
     ]
    }
   ],
   "source": [
    "print(generate_items_context(t)[:1000])"
   ]
  },
  {
   "cell_type": "code",
   "execution_count": null,
   "id": "5cae510e-b512-4216-9eaa-5b1634dbe2a1",
   "metadata": {},
   "outputs": [],
   "source": []
  },
  {
   "cell_type": "code",
   "execution_count": null,
   "id": "d19a15f2-d1a2-4c14-aea1-25bab0d7b1b5",
   "metadata": {},
   "outputs": [],
   "source": []
  },
  {
   "cell_type": "markdown",
   "id": "a921243e-3e8b-484f-aa12-65fcceb7e65b",
   "metadata": {},
   "source": [
    "### Query on Products\n",
    "\n",
    "The function that queries products based on a given task. The process follows these steps:\n",
    "\n",
    "1. **Query**: Start with a product query.\n",
    "2. **Determine Query Nature**: Identify if the query is technical or creative.\n",
    "3. **Retrieve Relevant Products**: Find products that best match the query criteria.\n",
    "4. **Generate Context**: Build a descriptive context string based on the products.\n",
    "5. **Create Prompt**: Formulate the prompt using the context and the query nature.\n",
    "6. **Generate Parameters**: Prepare parameters suited to the query nature for the LLM.\n",
    "7. **Run Inference**: Perform the inference using the prepared parameters."
   ]
  },
  {
   "cell_type": "code",
   "execution_count": 46,
   "id": "455d32dc-023d-4584-8efb-40fb669385a2",
   "metadata": {
    "tags": []
   },
   "outputs": [],
   "source": [
    "def query_on_products(query: str) -> dict:\n",
    "    \"\"\"\n",
    "    Execute a product query process to generate a response based on the nature of the query.\n",
    "\n",
    "    This function analyzes the type of query — whether it is technical or creative — and retrieves \n",
    "    relevant product information accordingly. It constructs a prompt that includes product details \n",
    "    and the original query, and then generates parameters for querying an LLM.\n",
    "    Finally, it generates a response based on the prompt and returns the content of the response.\n",
    "\n",
    "    Parameters:\n",
    "    query (str): The input query string that needs to be analyzed and answered using product data.\n",
    "\n",
    "    Returns:\n",
    "    dict: A dictionary of keyword arguments (`kwargs`) containing the prompt and additional settings \n",
    "          for creating a response, suitable for input to an LLM or other processing system.\n",
    "\n",
    "    Outputs:\n",
    "    dict: A dictionary with the parameters to call an LLM\n",
    "    \"\"\"\n",
    "\n",
    "\n",
    "    # Determine if the query is technical or creative in nature\n",
    "    query_label = decide_task_nature(query) \n",
    "    \n",
    "    # Obtain necessary parameters based on the query type\n",
    "    parameters_dict = get_params_for_task(query_label) \n",
    "    \n",
    "    # Retrieve products that are relevant to the query\n",
    "    relevant_products = get_relevant_products_from_query(query) \n",
    "     \n",
    "    # Create a context string from the relevant products\n",
    "    context = generate_items_context(relevant_products) \n",
    "\n",
    "    # Construct a prompt including product details and the query. Remember to add the context and the query in the prompt, also, ask the LLM to provide the product ID in the answer\n",
    "    prompt = (\n",
    "    f\"You are a helpful shopping assistant. Answer the user’s query directly, in a natural conversational style. \"\n",
    "    f\"You are a very helpful assistant. You are given a list of clothing products. Answer the query below by selecting the most relevant items. \"\n",
    "    f\"Always include the item ID in your response. \"\n",
    "    f\"Only describe features that are directly relevant to the query—keep descriptions concise. \"\n",
    "    f\"If the query does not specify a number of products, return at most five. \"\n",
    "    f\"\\n\\nAVAILABLE PRODUCTS:\\n{context}\\n\\nQUERY:\\n{query}\"\n",
    ")\n",
    "\n",
    "    \n",
    "    # Generate kwargs (parameters dict) for parameterized input to the LLM with , Prompt, role = 'assistant' and **parameters_dict\n",
    "    kwargs = generate_params_dict(prompt, role='assistant', **parameters_dict)\n",
    "    \n",
    "    \n",
    "    return kwargs"
   ]
  },
  {
   "cell_type": "code",
   "execution_count": 47,
   "id": "5e157f31-d0a8-44bc-9ee1-8942e88f7b5e",
   "metadata": {
    "tags": []
   },
   "outputs": [],
   "source": [
    "kwargs = query_on_products('Make a wonderful look for a man attending a wedding party happening during night.')"
   ]
  },
  {
   "cell_type": "code",
   "execution_count": 48,
   "id": "68398667-a2e8-4654-a76d-e2801e8694e5",
   "metadata": {
    "tags": []
   },
   "outputs": [
    {
     "name": "stdout",
     "output_type": "stream",
     "text": [
      "To create a wonderful look for a man attending a wedding party at night, I recommend the following formal shoes:\n",
      "\n",
      "1. Product ID: 21059. Product name: Clarks Men Extra Look Black Formal Shoe. \n",
      "2. Product ID: 2834. Product name: Lee Cooper Men's Slip On Darknight Black Shoe.\n",
      "3. Product ID: 33349. Product name: Homme Men Black Semi Formal Shoes.\n",
      "4. Product ID: 10281. Product name: Clarks Men Hang Spring Leather Black Formal Shoes.\n",
      "5. Product ID: 33355. Product name: Homme Men Black Formal Ankle Boots.\n",
      "\n",
      "These formal shoes are suitable for a night wedding party and will complement a man's attire for the occasion.\n"
     ]
    }
   ],
   "source": [
    "result = generate_with_single_input(**kwargs)\n",
    "print(result['content'])"
   ]
  },
  {
   "cell_type": "code",
   "execution_count": 49,
   "id": "74b7463b-25f0-4f3f-bc58-6098e9c31383",
   "metadata": {
    "tags": []
   },
   "outputs": [],
   "source": [
    "kwargs = query_on_products('Give me three T-shirts for sunny days')"
   ]
  },
  {
   "cell_type": "code",
   "execution_count": 50,
   "id": "328e5a8d-f0c2-42e4-a631-d5ac2d9d2375",
   "metadata": {
    "tags": []
   },
   "outputs": [
    {
     "name": "stdout",
     "output_type": "stream",
     "text": [
      "Here are three T-shirt options for sunny days:\n",
      "\n",
      "1. Product ID: 1853 - Inkfruit Mens Little Bit More T-shirt (Yellow) - Casual, Men's T-shirt for sunny days.\n",
      "2. Product ID: 47281 - Myntra Men Pack of 3 T-shirts (Yellow) - Casual, Men's T-shirt pack for sunny days.\n",
      "3. Product ID: 4260 - Inkfruit Men's Music Fever Yellow T-shirt (Yellow) - Casual, Men's T-shirt for sunny days.\n"
     ]
    }
   ],
   "source": [
    "result = generate_with_single_input(**kwargs)\n",
    "print(result['content'])"
   ]
  },
  {
   "cell_type": "code",
   "execution_count": null,
   "id": "9b14188e-45eb-439e-87e2-0ed9892ec160",
   "metadata": {},
   "outputs": [],
   "source": []
  },
  {
   "cell_type": "code",
   "execution_count": null,
   "id": "550b6bc0-db09-4995-bf5e-d4bd3d188fb8",
   "metadata": {},
   "outputs": [],
   "source": []
  },
  {
   "cell_type": "markdown",
   "id": "3d39c126-f4ff-4cee-b6eb-506f6ccf9350",
   "metadata": {},
   "source": [
    "## The Final Function!\n",
    "### The function to rule them all\n",
    "\n",
    "Now it’s time to bring everything together into a single function!\n",
    "\n",
    "This function will:\n",
    "\n",
    "1. Check if the query is related to an FAQ or a Product.\n",
    "2. If it’s an FAQ, run the FAQ-related workflow.\n",
    "3. If it’s a Product, run the Product-related workflow.\n",
    "\n",
    "It returns the kwargs dictionary containing the appropriate arguments."
   ]
  },
  {
   "cell_type": "code",
   "execution_count": 51,
   "id": "ca835dac-6bac-43e8-af36-64bcab6838b8",
   "metadata": {
    "tags": []
   },
   "outputs": [],
   "source": [
    "def answer_query(query: str) -> dict:\n",
    "    \"\"\"\n",
    "    Determines the type of a given query (FAQ or Product) and executes the appropriate workflow.\n",
    "\n",
    "    Parameters:\n",
    "    - query (str): The user's query string.\n",
    "\n",
    "    Returns:\n",
    "    - dict: A dictionary of keyword arguments to be used for further processing.\n",
    "      If the query is neither FAQ nor Product-related, returns a default response dictionary\n",
    "      instructing the assistant to answer based on existing context.\n",
    "    \"\"\"\n",
    "    label = check_if_faq_or_product(query)\n",
    "    if label not in ['FAQ', 'Product']:\n",
    "        return {\n",
    "            \"role\": \"assistant\",\n",
    "            \"prompt\": f\"User provided a question that does not fit FAQ or Product related questions. \"\n",
    "                      f\"Answer it based on the context you already have so far. Query provided by the user: {query}\"\n",
    "        }\n",
    "    if label == 'FAQ':\n",
    "        kwargs = query_on_faq(query)\n",
    "    if label == 'Product':\n",
    "        try:\n",
    "            kwargs = query_on_products(query)\n",
    "        except:\n",
    "            return {\n",
    "            \"role\": \"assistant\",\n",
    "            \"prompt\": f\"User provided a question that broke the querying system. Instruct them to rephrase it.\"\n",
    "                      f\"Answer it based on the context you already have so far. Query provided by the user: {query}\"\n",
    "        }\n",
    "            \n",
    "    return kwargs"
   ]
  },
  {
   "cell_type": "code",
   "execution_count": null,
   "id": "227a23c4-8d1e-4eab-a097-ca19bf25c2cd",
   "metadata": {},
   "outputs": [],
   "source": []
  },
  {
   "cell_type": "code",
   "execution_count": 52,
   "id": "ecafb11b-c37c-4398-b602-fd8ebc654b59",
   "metadata": {
    "tags": []
   },
   "outputs": [],
   "source": [
    "kwargs = answer_query(\"What are your working hours?\")"
   ]
  },
  {
   "cell_type": "code",
   "execution_count": 53,
   "id": "220f6862-32b5-40b1-9dd1-ec895f75465c",
   "metadata": {
    "tags": []
   },
   "outputs": [
    {
     "name": "stdout",
     "output_type": "stream",
     "text": [
      "Our customer service is available from 9:00 AM to 6:00 PM, Monday through Friday. Our online store is open 24/7.\n"
     ]
    }
   ],
   "source": [
    "result = generate_with_single_input(**kwargs)\n",
    "print(result['content'])"
   ]
  },
  {
   "cell_type": "code",
   "execution_count": null,
   "id": "f99c483a-f439-489e-9b21-b2443d24ba47",
   "metadata": {},
   "outputs": [],
   "source": []
  },
  {
   "cell_type": "markdown",
   "id": "7137b55b-24f7-4308-8825-430db87d5468",
   "metadata": {},
   "source": [
    "# ChatBot"
   ]
  },
  {
   "cell_type": "code",
   "execution_count": 54,
   "id": "6828a931-f06a-4748-aefd-0db2fbca1fd3",
   "metadata": {
    "tags": []
   },
   "outputs": [],
   "source": [
    "# !pip install gradio"
   ]
  },
  {
   "cell_type": "code",
   "execution_count": 55,
   "id": "adc8d3d5-0690-433d-88af-067b73ce5ac5",
   "metadata": {
    "tags": []
   },
   "outputs": [],
   "source": [
    "from utils import *"
   ]
  },
  {
   "cell_type": "code",
   "execution_count": 58,
   "id": "76c17b2f-0938-4672-9b89-2d19a177d7b6",
   "metadata": {
    "tags": []
   },
   "outputs": [
    {
     "name": "stdout",
     "output_type": "stream",
     "text": [
      "* Running on local URL:  http://127.0.0.1:8081\n",
      "* Running on public URL: https://9832da9d7d8fe0583a.gradio.live\n",
      "\n",
      "This share link expires in 1 week. For free permanent hosting and GPU upgrades, run `gradio deploy` from the terminal in the working directory to deploy to Hugging Face Spaces (https://huggingface.co/spaces)\n"
     ]
    },
    {
     "data": {
      "text/html": [
       "<div><iframe src=\"https://9832da9d7d8fe0583a.gradio.live\" width=\"100%\" height=\"500\" allow=\"autoplay; camera; microphone; clipboard-read; clipboard-write;\" frameborder=\"0\" allowfullscreen></iframe></div>"
      ],
      "text/plain": [
       "<IPython.core.display.HTML object>"
      ]
     },
     "metadata": {},
     "output_type": "display_data"
    }
   ],
   "source": [
    "%run utils.py"
   ]
  },
  {
   "cell_type": "code",
   "execution_count": null,
   "id": "2b9f68b6-31de-4ad3-8cc1-e311ce6074ba",
   "metadata": {},
   "outputs": [],
   "source": []
  }
 ],
 "metadata": {
  "kernelspec": {
   "display_name": "Python 3 (ipykernel)",
   "language": "python",
   "name": "python3"
  },
  "language_info": {
   "codemirror_mode": {
    "name": "ipython",
    "version": 3
   },
   "file_extension": ".py",
   "mimetype": "text/x-python",
   "name": "python",
   "nbconvert_exporter": "python",
   "pygments_lexer": "ipython3",
   "version": "3.12.11"
  }
 },
 "nbformat": 4,
 "nbformat_minor": 5
}
